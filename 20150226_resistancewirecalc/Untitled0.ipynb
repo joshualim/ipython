{
 "metadata": {
  "name": "",
  "signature": "sha256:9b96196d1153197feac460d16bded0bf29bcfe4371fd0fc6bfb18e58055f0aa7"
 },
 "nbformat": 3,
 "nbformat_minor": 0,
 "worksheets": []
}