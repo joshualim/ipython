{
 "metadata": {
  "name": "",
  "signature": "sha256:d87dab65c343947f8c29cad1fc10befbdb20caf110ca285b65633b832f3ccc97"
 },
 "nbformat": 3,
 "nbformat_minor": 0,
 "worksheets": [
  {
   "cells": [
    {
     "cell_type": "markdown",
     "metadata": {},
     "source": [
      "## Nuclear activity calculator\n",
      "Recently, I needed to send some uranium samples from overseas to the UK."
     ]
    }
   ],
   "metadata": {}
  }
 ]
}