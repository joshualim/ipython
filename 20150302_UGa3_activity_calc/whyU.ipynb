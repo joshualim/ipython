{
 "metadata": {
  "name": "",
  "signature": "sha256:3469c7c221a2b74710d1636fced852a17d8a7f0c21c6fe34c2053ed1b9402ebb"
 },
 "nbformat": 3,
 "nbformat_minor": 0,
 "worksheets": [
  {
   "cells": [
    {
     "cell_type": "markdown",
     "metadata": {},
     "source": [
      "## Why uranium?\n",
      "In a [previous post](), I mentioned wanting to ship a very tiny amount of uranium. But why did I want to have uranium? The most famous of uranium properties are it's nuclear ones - it's these features that make it useful as a nuclear fuel (in fission reactions) and also a bomb. Actually, I'm not interested in the nuclear properties at all, and I use depleted uranium that has extremely low amounts of U-235 (a uranium isotope) and can't sustain a chain reaction.\n",
      "\n",
      "In addition to these nuclear properties, the electrons in uranium can do some weird things. It is electrons that are responsible for the structure, chemistry, magnetism and most properties of matter that we notice everyday around us. As a condensed matter physicist interested in magnetism, it's the electron properties of uranium that I find the most interesting as they can give some really in cool effects, such as complicated magnetic order and superconductivity. It's on the magnetism that I'm going to focus on here.\n",
      "\n",
      "#### So what makes uranium special?\n",
      "Uranium is located towards the bottom of the periodic table in the actinide series (the 15 elements in the bottom row in darker pink). The actinide series itself is in the f-block (which are the two pink rows). Often in periodic tables you will see this placed completely below the others, but I've chosen to show it here to see how it fits in to the sequence.  \n",
      "\n",
      "<center> <img src=\"files/periodic_tableU.png\" /> </center>\n",
      "Periodic table showing uranium [Picture adapted from wiki commons](http://en.wikipedia.org/wiki/Periodic_table#mediaviewer/File:Periodic_Table_overview_%28wide%29.svg)\n",
      "\n",
      "Being part of the f-block means that it has unfilled electron shells. Unfilled shells are responsible for almost all of the chemistry and physics we see of everyday solids. \n",
      "\n",
      "If we look at the Lanthanide series (the light pink row directly above the actindies), we find that each f electron sticks very close to it's nucleus and are not shared with neighbouring nucleii. These very well localised electrons of the Lanthanides are also interesting and can give rise to very power magnets (like the Neodynium ones in headphones) and magnetic monopoles. \n",
      "\n",
      "If we now think about the Actinide series, each nucleus tends to want to not share it's f-electrons (like the Lanthanides), but as all the atoms are bigger (there are simply more electrons there), the electrons end up getting shared out more. What we have now is electrons that are finely balanced between being solely based around one atom to be shared all around. It turns out that it is this competition that gives uranium very complicated and interesting magnetic properties! \n",
      "\n",
      "To scientists, this is very unusual behaviour is interesting to study in it's own right, without a view to direct applications. However, studying these complex systems gives good tests to existing theories which can also lead to new breakthroughs in understanding this and other problems. A common feature of fundamental research is that you never know exactly where it will "
     ]
    },
    {
     "cell_type": "code",
     "collapsed": false,
     "input": [],
     "language": "python",
     "metadata": {},
     "outputs": []
    }
   ],
   "metadata": {}
  }
 ]
}