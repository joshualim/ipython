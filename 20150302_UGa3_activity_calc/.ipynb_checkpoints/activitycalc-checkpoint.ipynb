{
 "metadata": {
  "name": "",
  "signature": "sha256:6ff6f339301c85fef426fc78d6bc63e1c55335c1170ef113a07535dc161e3fe1"
 },
 "nbformat": 3,
 "nbformat_minor": 0,
 "worksheets": [
  {
   "cells": [
    {
     "cell_type": "markdown",
     "metadata": {},
     "source": [
      "## Nuclear activity calculator\n",
      "Recently, I needed to send some samples containing uranium from overseas to the UK. Although I'm not interested in the nuclear or radioactive properties (I say why [here](http://nbviewer.ipython.org/github/joshualim/ipython/blob/master/20150302_UGa3_activity_calc/whyU.ipynb)), these samples are slightly radioactive. There are lots of safety precautions in place when dealing with radioactive materials, and one thing I had to do was to figure out how radioactive my samples might be. At the time, we didn't have a way to easily and reliably measure the activity so I tried to calculate it instead.\n",
      "\n",
      "These are quite simple calculations but there are quite a lot of steps. They only use the formulae for radioactive decay and some ideas about moles.\n",
      "\n",
      "## The problem\n",
      "\n",
      "In the end the quantity we want to calculate is the activity or decay rate. This has units of $s^{-1}$ and tells us how many decays there are per second. I was hoping that this number would be low - a low activity means that some of the safety constraints that make it more difficult to do experiments are relaxed.\n",
      "\n",
      "The sample is made of UGa$_3$ and we are told by the person providing it that it is 4.06x1.38x1.40 mm in size and has a mass of 61.2 mg. Ga is stable and so all the activity comes from U. This is all the information we need to calculate the activity.\n",
      "\n",
      "## Approach\n",
      "\n",
      "I'll outline the important things we need to know beforehand\n",
      "\n",
      "* To calculate the activity, we will use the formula ${Activity} = \\lambda N$. This is a simple statement which says the activity depends on the decays constant ($\\lambda$) and the number of atoms, $N$. If we have a high decay constant, the activity will be high. Also if we have a large number of atoms, then we will have a high activity. \n",
      "\n",
      "* We need to know how many uranium atoms we have $N$. We can calculate this based on the sample mass and knowing the composition (i.e. how many U compared to Ga).\n",
      "\n",
      "* The decay constant we look up and just depends on what element we have. \n",
      "\n",
      "## Starting the calculation\n",
      "We will start by writing down what we know about the problem. I am doing this in ipython which allows me to see all the steps calculation. It also allows me to quickly repeat a calculation with a different input information (for example, the sample mass).\n"
     ]
    },
    {
     "cell_type": "code",
     "collapsed": false,
     "input": [
      "## the sample measurements\n",
      "L1 = 4.06  # length of side 1, in mm\n",
      "L2 = 1.38\n",
      "L3 = 1.40\n",
      "\n",
      "M_total = 61.2 /1000 # sample mass in grams"
     ],
     "language": "python",
     "metadata": {},
     "outputs": [],
     "prompt_number": 2
    },
    {
     "cell_type": "markdown",
     "metadata": {},
     "source": [
      "## Finding an expression for $N$\n",
      "This next bit requires some maths. We will try and find out the number of uranium atoms. To do this we can write down a simple formula that describes the total mass of the sample in terms of the U and Ga atoms making it up.\n",
      "\n",
      "$M_{total} = M_{\\text{U atoms}} + M_{\\text{Ga atoms}}$ \n",
      "\n",
      "#### U calculation\n",
      "The mass of combined mass of uranium atoms will be:\n",
      "\n",
      "$ M_{\\text{U atoms}} = N_U \\times m_{\\text{1 U atom}}$\n",
      "\n",
      "where $N_U$ is the number of uranium atoms and $m_{\\text{1 U atom}}$ is the mass of one U atom.\n",
      "\n",
      "Now one the mass of an atom is made of all it's protons and neutrons. For uranium there are 238 nucleons (this is it's atomic weight) and so the mass of one U atom is \n",
      "\n",
      "$m_{\\text{1 U atom}} = 238 \\times m_{\\text{proton}}$\n",
      "\n",
      "#### Ga calculation\n",
      "We can write down a similar equations for the Ga atoms so that we have:\n",
      "\n",
      "$ M_{\\text{Ga atoms}} = N_{Ga} \\times m_{\\text{1 Ga atom}}$\n",
      "\n",
      "We are told that the composition of the sample is UGa$_3$. This means for every there are x3 Ga to every x1 U or mathematically: $3\\times N_{Ga} = N_U$. This is a useful trick as it means we don't have to calculate the number of Ga atoms. We can rewrite $ M_{\\text{Ga atoms}}$ as:\n",
      "\n",
      "$ M_{\\text{Ga atoms}} = 3 \\times N_{U} \\times m_{\\text{1 Ga atom}}$\n",
      "\n",
      "Also we can look up from the periodic table that Ga has an atomic weight 69.72g \n",
      "\n",
      "$m_{\\text{1 Ga atom}} = 69.72 \\times m_{\\text{proton}}$.\n",
      "\n",
      "#### Putting it all together\n",
      "Let's substitute everything back our the equation for $M_{total}$ and remember that we are trying to get $N_U$ by itself.\n",
      "\n",
      "\\begin{align} \n",
      "M_{total} &= M_{\\text{U atoms}} + M_{\\text{Ga atoms}} \\\\\n",
      "M_{total} &= N_U \\times m_{\\text{1 U atom}}  + 3 \\times N_{U} \\times m_{\\text{1 Ga atom}} & \\text{(by substitution)}\\\\\n",
      "M_{total} &= N_U  (m_{\\text{1 U atom}}  + 3 \\times m_{\\text{1 Ga atom}})       & \\text{(by factorisation)}\\\\\n",
      "\\frac{M_{total}}{m_{\\text{1 U atom}}  + 3 \\times m_{\\text{1 Ga atom}}} &= N_U        & \\text{(by rearranging)}\\\\\n",
      "\\end{align}\n",
      "\n",
      "We now have an expression for $N_U$ in terms of lots of things we can calculate. Let's go ahead and calculate $N_U$.\n",
      "\n",
      "## $N_U$ calculation\n"
     ]
    },
    {
     "cell_type": "code",
     "collapsed": false,
     "input": [
      "## give some constants\n",
      "m_proton = 1.67E-27 * 1000    # mass of one proton in g\n",
      "atomicweight_U  = 238         # the atomic weight of U in g\n",
      "atomicweight_Ga = 67.72       # the atomic weight of Ga in g\n",
      "\n",
      "## calculate the mass of one atom\n",
      "m_1atomU = atomicweight_U   * m_proton\n",
      "m_1atomGa = atomicweight_Ga * m_proton\n",
      "\n",
      "## calculate N_U\n",
      "N_U = M_total/(m_1atomU + 3*m_1atomGa)\n",
      "\n",
      "print \"N_U = \" + str(N_U) + \" atoms\""
     ],
     "language": "python",
     "metadata": {},
     "outputs": [
      {
       "output_type": "stream",
       "stream": "stdout",
       "text": [
        "N_U = 8.3068969505e+19 atoms\n"
       ]
      }
     ],
     "prompt_number": 3
    },
    {
     "cell_type": "markdown",
     "metadata": {},
     "source": [
      "We've now successfully calculated the number of U atoms in our sample! Now we need to calculate the decay constant.\n",
      "\n",
      "## Decay constant calculation\n",
      "The decay constant is the number of decays per second and depends on an elements half life. The half life is the time taken for half of the substance to decay. Something with a very short half life will have many decays per second so a high decay constant: the decay constant and half life are inversely proportional to one another and are related by the equation:\n",
      "\n",
      "$\\lambda  = \\frac{\\ln(2)}{t_{\\text{half}}}$\n",
      "\n",
      "t_{\\text{half}} for uranium is very long (4.46 billion years) and so we now that we expect the decay constant to be very low! (Note that this value for the half life is about the age of the earth, this means that although we think of uranium as being quite radioactive, only half of the uranium on earth has decayed since it was formed.)\n",
      "\n",
      "We can now go ahead and calculate the decay constant. We want to convert it to seconds as is how our final answer will be given."
     ]
    },
    {
     "cell_type": "code",
     "collapsed": false,
     "input": [
      "from numpy import log\n",
      "## set some constants\n",
      "thalf_U_years = 4.46E9                              # thalf of U in years\n",
      "Number_seconds_in_year = 60*60*24*365                # number of seconds in a year\n",
      "thalf_U = thalf_U_years * Number_seconds_in_year      # thalf of U in seconds\n",
      "decay_const_U = log(2)/thalf_U\n",
      "\n",
      "print \"decay_const_U = \" + str(decay_const_U) + \" s-1\""
     ],
     "language": "python",
     "metadata": {},
     "outputs": [
      {
       "output_type": "stream",
       "stream": "stdout",
       "text": [
        "decay_const_U = 4.92815087661e-18 s-1\n"
       ]
      }
     ],
     "prompt_number": 4
    },
    {
     "cell_type": "markdown",
     "metadata": {},
     "source": [
      "## Finding the activity\n",
      "\n",
      "We now have all we need to know and can calculate the activity using the formula ${Activity} = \\lambda N$."
     ]
    },
    {
     "cell_type": "code",
     "collapsed": false,
     "input": [
      "## Calculate activity\n",
      "Activity = decay_const_U * N_U\n",
      "print \"Activity = \" + str(Activity) + \" s-1\""
     ],
     "language": "python",
     "metadata": {},
     "outputs": [
      {
       "output_type": "stream",
       "stream": "stdout",
       "text": [
        "Activity = 409.376414885 s-1\n"
       ]
      }
     ],
     "prompt_number": 5
    },
    {
     "cell_type": "markdown",
     "metadata": {},
     "source": [
      "We now have our answer - this means for our sample there are roughly 409 atoms decaying per second! \n",
      "\n",
      "This sounds like a lot and from a safety point of view and we should be careful with our sample. In terms of the scale of the sample, this number of decays is insignificant: there are a really huge number of atoms ($8.3 \\times 10^{19}$ atoms) in even a small piece mm-cube piece like this. Put another way, in the last 100 years the number of uranium atoms has changed by less than 1 millionth of a percent!\n",
      "\n",
      "## Summary\n",
      "Given a tiny real sample, we've calculated it's activity. For me, this means that it is considerably radioactive and we must take proper precautions to make sure we can transport and carry out our experiments safely.\n",
      "\n",
      "We also note that although we were given the sample lengths, we did not use these anywhere in our calculation! Often in the real world we will have extra information that we do not need to solve a problem.\n",
      "\n",
      "Later, it should be possible to actually measure the activity and I expect the measured value will be considerably lower than this value. I'll explain this in another [post](). "
     ]
    },
    {
     "cell_type": "markdown",
     "metadata": {},
     "source": [
      "In the [next blog entry](http://nbviewer.ipython.org/github/joshualim/ipython/blob/master/20150302_UGa3_activity_calc/whyU.ipynb), I'll briefly mention why I care about uranium and want to do experiments with it."
     ]
    }
   ],
   "metadata": {}
  }
 ]
}