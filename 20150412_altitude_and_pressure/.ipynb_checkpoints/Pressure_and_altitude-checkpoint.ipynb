{
 "cells": [
  {
   "cell_type": "markdown",
   "metadata": {},
   "source": [
    "#### Altitude and pressure\n",
    "\n",
    "Recently I was delivering a mini-lesson for Yr7 students on: why does water boil at a lower temperature at a higher altitude? A good answer to this be found on youtube here: https://www.youtube.com/watch?v=8lyqFkFsH28&. One particular concept I wanted to explain was air pressure get's lower with higher altitudes. \n",
    "\n"
   ]
  }
 ],
 "metadata": {
  "kernelspec": {
   "display_name": "Python 2",
   "language": "python",
   "name": "python2"
  },
  "language_info": {
   "codemirror_mode": {
    "name": "ipython",
    "version": 2
   },
   "file_extension": ".py",
   "mimetype": "text/x-python",
   "name": "python",
   "nbconvert_exporter": "python",
   "pygments_lexer": "ipython2",
   "version": "2.7.6"
  }
 },
 "nbformat": 4,
 "nbformat_minor": 0
}
